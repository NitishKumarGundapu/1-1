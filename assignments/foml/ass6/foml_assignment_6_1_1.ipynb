{
 "cells": [
  {
   "cell_type": "code",
   "execution_count": null,
   "metadata": {
    "colab": {
     "base_uri": "https://localhost:8080/"
    },
    "id": "ynOsp-M5IxHs",
    "outputId": "3e5d2941-76c4-42a1-b638-b05d878e26c2"
   },
   "outputs": [
    {
     "name": "stdout",
     "output_type": "stream",
     "text": [
      "Looking in indexes: https://pypi.org/simple, https://us-python.pkg.dev/colab-wheels/public/simple/\n",
      "Requirement already satisfied: scikit-learn-intelex in /usr/local/lib/python3.7/dist-packages (2021.6.3)\n",
      "Requirement already satisfied: scikit-learn>=0.22 in /usr/local/lib/python3.7/dist-packages (from scikit-learn-intelex) (1.0.2)\n",
      "Requirement already satisfied: daal4py==2021.6.3 in /usr/local/lib/python3.7/dist-packages (from scikit-learn-intelex) (2021.6.3)\n",
      "Requirement already satisfied: numpy>=1.15 in /usr/local/lib/python3.7/dist-packages (from daal4py==2021.6.3->scikit-learn-intelex) (1.21.6)\n",
      "Requirement already satisfied: daal==2021.6.0 in /usr/local/lib/python3.7/dist-packages (from daal4py==2021.6.3->scikit-learn-intelex) (2021.6.0)\n",
      "Requirement already satisfied: tbb==2021.* in /usr/local/lib/python3.7/dist-packages (from daal==2021.6.0->daal4py==2021.6.3->scikit-learn-intelex) (2021.7.1)\n",
      "Requirement already satisfied: joblib>=0.11 in /usr/local/lib/python3.7/dist-packages (from scikit-learn>=0.22->scikit-learn-intelex) (1.2.0)\n",
      "Requirement already satisfied: threadpoolctl>=2.0.0 in /usr/local/lib/python3.7/dist-packages (from scikit-learn>=0.22->scikit-learn-intelex) (3.1.0)\n",
      "Requirement already satisfied: scipy>=1.1.0 in /usr/local/lib/python3.7/dist-packages (from scikit-learn>=0.22->scikit-learn-intelex) (1.7.3)\n"
     ]
    }
   ],
   "source": [
    "!pip install scikit-learn-intelex"
   ]
  },
  {
   "cell_type": "code",
   "execution_count": null,
   "metadata": {
    "id": "BrbYkv2_ro0y"
   },
   "outputs": [],
   "source": [
    "%matplotlib inline\n",
    "import numpy as np\n",
    "import torch\n",
    "import torch.nn as nn\n",
    "from torchvision.transforms import Normalize, ToTensor, Compose\n",
    "from torchvision.datasets import MNIST\n",
    "from torch.utils.data import DataLoader\n",
    "import matplotlib.pyplot as plt\n",
    "from tqdm.auto import trange\n",
    "from sklearn.svm import SVC\n",
    "from sklearn.metrics.pairwise import euclidean_distances\n",
    "from sklearn.metrics import accuracy_score\n",
    "from sklearn.preprocessing import normalize\n",
    "from sklearn.preprocessing import StandardScaler\n",
    "from sklearn.pipeline import make_pipeline"
   ]
  },
  {
   "cell_type": "code",
   "execution_count": null,
   "metadata": {
    "colab": {
     "base_uri": "https://localhost:8080/"
    },
    "id": "vGPkD9_qI3tQ",
    "outputId": "c2c4a39a-301b-4e8a-9b0e-4ee91c54b846"
   },
   "outputs": [
    {
     "name": "stderr",
     "output_type": "stream",
     "text": [
      "Intel(R) Extension for Scikit-learn* enabled (https://github.com/intel/scikit-learn-intelex)\n"
     ]
    }
   ],
   "source": [
    "from sklearnex import patch_sklearn\n",
    "patch_sklearn()"
   ]
  },
  {
   "cell_type": "code",
   "execution_count": null,
   "metadata": {
    "id": "2DlBwPGL5KQe"
   },
   "outputs": [],
   "source": [
    "image_transform = Compose([\n",
    "  ToTensor(),\n",
    "  Normalize((0.1307,), (0.3081,))\n",
    "])"
   ]
  },
  {
   "cell_type": "code",
   "execution_count": null,
   "metadata": {
    "id": "Z57k4Q5BrvBE"
   },
   "outputs": [],
   "source": [
    "def make_data_loaders(batch_size_train, batch_size_test):\n",
    "  train_dataset = MNIST('dataset/', train=True, download=True, transform=image_transform)\n",
    "  test_dataset = MNIST('dataset/', train=False, download=True, transform=image_transform)\n",
    "\n",
    "  train_loader = DataLoader(train_dataset, batch_size=batch_size_train, shuffle=True)\n",
    "  test_loader = DataLoader(test_dataset, batch_size=batch_size_test, shuffle=True)\n",
    "\n",
    "  return train_loader, test_loader"
   ]
  },
  {
   "cell_type": "code",
   "execution_count": null,
   "metadata": {
    "colab": {
     "base_uri": "https://localhost:8080/",
     "height": 300
    },
    "id": "c-lNj7AI6jBg",
    "outputId": "067df6be-88d4-42c0-f70a-d00e7d6e6234"
   },
   "outputs": [
    {
     "name": "stdout",
     "output_type": "stream",
     "text": [
      "torch.Size([1024, 1, 28, 28])\n",
      "Label: tensor(5)\n"
     ]
    },
    {
     "data": {
      "image/png": "[encoded data removed]",
      "text/plain": [
       "<Figure size 432x288 with 1 Axes>"
      ]
     },
     "metadata": {
      "needs_background": "light"
     },
     "output_type": "display_data"
    }
   ],
   "source": [
    "train_loader, test_loader = make_data_loaders(64, 1024)\n",
    "_, (data, labels) = next(enumerate(test_loader))\n",
    "sample = data[0][0]\n",
    "print(data.shape)\n",
    "plt.imshow(sample, cmap='gray', interpolation='none')\n",
    "print(\"Label: \"+ str(labels[0]))"
   ]
  },
  {
   "cell_type": "code",
   "execution_count": null,
   "metadata": {
    "id": "FG1c7oZur7UZ"
   },
   "outputs": [],
   "source": [
    "# class MNISTClassifier(nn.Module):\n",
    "#   def __init__(self, depth=1):\n",
    "#     super(MNISTClassifier, self).__init__()\n",
    "    \n",
    "#     n_hidden_out = 256\n",
    "#     hidden_layers = [\n",
    "#         nn.Linear(784, 256),\n",
    "#         nn.ReLU()\n",
    "#     ]\n",
    "\n",
    "#     if depth == 2:\n",
    "#       n_hidden_out = 32\n",
    "#       hidden_layers = [\n",
    "#           nn.Linear(784, 512),\n",
    "#           nn.ReLU(),\n",
    "#           nn.Linear(512, 32),\n",
    "#           nn.ReLU()\n",
    "#       ]\n",
    "    \n",
    "#     self.flatten = nn.Flatten()\n",
    "#     self.layer_stack = nn.Sequential(\n",
    "#         *hidden_layers,\n",
    "#         nn.Linear(n_hidden_out, 10)\n",
    "#     )\n",
    "\n",
    "#   def forward(self, x):\n",
    "#     x = self.flatten(x)\n",
    "#     logits = self.layer_stack(x)\n",
    "#     pred = logits.argmax(1)\n",
    "#     return pred\n",
    "\n"
   ]
  },
  {
   "cell_type": "code",
   "execution_count": null,
   "metadata": {
    "id": "LIQjIcfdPz8w"
   },
   "outputs": [],
   "source": [
    "def train(model, train_loader, lr, debug=False):\n",
    "  epochs = 20\n",
    "  opt = torch.optim.SGD(model.parameters(), lr=lr)\n",
    "  loss_fn = nn.CrossEntropyLoss()\n",
    "  r = trange(epochs)\n",
    "  losses = []\n",
    "  for epoch in r:\n",
    "    size = len(train_loader.dataset)\n",
    "    batches = len(train_loader)\n",
    "    for batch, (X_train, y_train) in enumerate(train_loader):\n",
    "      opt.zero_grad()\n",
    "      y_hat = model(X_train)\n",
    "      loss = loss_fn(y_hat, y_train)\n",
    "      loss.backward()\n",
    "      opt.step()\n",
    "      r.set_postfix(loss=f'{loss / X_train.shape[0]:.3f} | Batch {batch} of {batches}')\n",
    "      if batch % 100 == 0:\n",
    "        losses.append(loss.item())\n",
    "        if debug == True:\n",
    "          loss, current = loss.item(), batch * len(X_train)\n",
    "          print(f\"loss: {loss:>7f}  [{current:>5d}/{size:>5d}]\")\n",
    "  return losses"
   ]
  },
  {
   "cell_type": "code",
   "execution_count": null,
   "metadata": {
    "id": "h9yaWV4pF4k8"
   },
   "outputs": [],
   "source": [
    "def test(model, test_loader):\n",
    "  loss_fn = nn.CrossEntropyLoss()\n",
    "  size = len(test_loader.dataset)\n",
    "  num_batches = len(test_loader)\n",
    "  test_loss, correct = 0, 0\n",
    "\n",
    "  with torch.no_grad():\n",
    "      for X, y in test_loader:\n",
    "          pred = model(X)\n",
    "          test_loss += loss_fn(pred, y).item()\n",
    "          correct += (pred.argmax(1) == y).type(torch.float).sum().item()\n",
    "\n",
    "  test_loss /= num_batches\n",
    "  correct /= size\n",
    "  print(f\"Test Error: \\n Accuracy: {(100*correct):>0.1f}%, Avg loss: {test_loss:>8f} \\n\")\n"
   ]
  },
  {
   "cell_type": "code",
   "execution_count": null,
   "metadata": {
    "id": "ITM-8MPK7C6w"
   },
   "outputs": [],
   "source": [
    "def make_one_layer_classifier():\n",
    "  return nn.Sequential(\n",
    "      nn.Flatten(),\n",
    "      nn.Linear(784, 256),\n",
    "      nn.ReLU(),\n",
    "      nn.Linear(256, 10)\n",
    "  )"
   ]
  },
  {
   "cell_type": "code",
   "execution_count": null,
   "metadata": {
    "id": "m7tnlwYC60b_"
   },
   "outputs": [],
   "source": [
    "def make_two_layer_classifier():\n",
    "  return nn.Sequential(\n",
    "      nn.Flatten(),\n",
    "      nn.Linear(784, 512),\n",
    "      nn.ReLU(),\n",
    "      nn.Linear(512, 32),\n",
    "      nn.ReLU(),\n",
    "      nn.Linear(32, 10)\n",
    "  )"
   ]
  },
  {
   "cell_type": "code",
   "execution_count": null,
   "metadata": {
    "colab": {
     "base_uri": "https://localhost:8080/",
     "height": 430,
     "referenced_widgets": [
      "c428703b6c524e61b3d27aa54c002855",
      "4522b5aeaf5446afb98c238be62aed34",
      "163d3e86a39b4ce8a1a8f4707df315ba",
      "d5a7c2719b214ab197d9de77f3a77b9d",
      "7fce0f1e26b74900a88fb3e9dbe02a33",
      "b21c7e537c8647dcb490c62d164e48ab",
      "82d9386c89b84cb7b5639bfff8c7e7fa",
      "15f10a67ba5e4f9bbcb264ccbaa5a9e9",
      "cf7d7ded5cfc4c7ea9b52894c49b0522",
      "076e6226b6a7431ca1e76b3ec06fc24c",
      "b889cc7fffb1477ebfce3e98de49022d"
     ]
    },
    "id": "uyv76oZ2QrH9",
    "outputId": "939d2bba-00f0-45eb-ab8d-f858f49eda17"
   },
   "outputs": [
    {
     "name": "stdout",
     "output_type": "stream",
     "text": [
      "Batch size: 10, depth: 1\n"
     ]
    },
    {
     "data": {
      "application/vnd.jupyter.widget-view+json": {
       "model_id": "c428703b6c524e61b3d27aa54c002855",
       "version_major": 2,
       "version_minor": 0
      },
      "text/plain": [
       "  0%|          | 0/20 [00:00<?, ?it/s]"
      ]
     },
     "metadata": {},
     "output_type": "display_data"
    },
    {
     "ename": "KeyboardInterrupt",
     "evalue": "ignored",
     "output_type": "error",
     "traceback": [
      "\u001b[0;31m---------------------------------------------------------------------------\u001b[0m",
      "\u001b[0;31mKeyboardInterrupt\u001b[0m                         Traceback (most recent call last)",
      "\u001b[0;32m<ipython-input-10-39988c3d58c6>\u001b[0m in \u001b[0;36m<module>\u001b[0;34m\u001b[0m\n\u001b[1;32m     10\u001b[0m \u001b[0;34m\u001b[0m\u001b[0m\n\u001b[1;32m     11\u001b[0m     \u001b[0mprint\u001b[0m\u001b[0;34m(\u001b[0m\u001b[0;34mf'Batch size: {batch_size}, depth: {depth}'\u001b[0m\u001b[0;34m)\u001b[0m\u001b[0;34m\u001b[0m\u001b[0;34m\u001b[0m\u001b[0m\n\u001b[0;32m---> 12\u001b[0;31m     \u001b[0mlosses\u001b[0m \u001b[0;34m=\u001b[0m \u001b[0mtrain\u001b[0m\u001b[0;34m(\u001b[0m\u001b[0mmodel\u001b[0m\u001b[0;34m,\u001b[0m \u001b[0mtrain_loader\u001b[0m\u001b[0;34m,\u001b[0m \u001b[0mlr\u001b[0m\u001b[0;34m=\u001b[0m\u001b[0;36m0.01\u001b[0m\u001b[0;34m)\u001b[0m\u001b[0;34m\u001b[0m\u001b[0;34m\u001b[0m\u001b[0m\n\u001b[0m\u001b[1;32m     13\u001b[0m     \u001b[0mplt\u001b[0m\u001b[0;34m.\u001b[0m\u001b[0mfigure\u001b[0m\u001b[0;34m(\u001b[0m\u001b[0mfigsize\u001b[0m\u001b[0;34m=\u001b[0m\u001b[0;34m(\u001b[0m\u001b[0;36m15\u001b[0m\u001b[0;34m,\u001b[0m \u001b[0;36m10\u001b[0m\u001b[0;34m)\u001b[0m\u001b[0;34m)\u001b[0m\u001b[0;34m\u001b[0m\u001b[0;34m\u001b[0m\u001b[0m\n\u001b[1;32m     14\u001b[0m     \u001b[0mplt\u001b[0m\u001b[0;34m.\u001b[0m\u001b[0mplot\u001b[0m\u001b[0;34m(\u001b[0m\u001b[0mlist\u001b[0m\u001b[0;34m(\u001b[0m\u001b[0mrange\u001b[0m\u001b[0;34m(\u001b[0m\u001b[0mlen\u001b[0m\u001b[0;34m(\u001b[0m\u001b[0mlosses\u001b[0m\u001b[0;34m)\u001b[0m\u001b[0;34m)\u001b[0m\u001b[0;34m)\u001b[0m\u001b[0;34m,\u001b[0m \u001b[0mlosses\u001b[0m\u001b[0;34m)\u001b[0m\u001b[0;34m\u001b[0m\u001b[0;34m\u001b[0m\u001b[0m\n",
      "\u001b[0;32m<ipython-input-6-52f0f135235e>\u001b[0m in \u001b[0;36mtrain\u001b[0;34m(model, train_loader, lr, debug)\u001b[0m\n\u001b[1;32m      9\u001b[0m     \u001b[0mbatches\u001b[0m \u001b[0;34m=\u001b[0m \u001b[0mlen\u001b[0m\u001b[0;34m(\u001b[0m\u001b[0mtrain_loader\u001b[0m\u001b[0;34m)\u001b[0m\u001b[0;34m\u001b[0m\u001b[0;34m\u001b[0m\u001b[0m\n\u001b[1;32m     10\u001b[0m     \u001b[0;32mfor\u001b[0m \u001b[0mbatch\u001b[0m\u001b[0;34m,\u001b[0m \u001b[0;34m(\u001b[0m\u001b[0mX_train\u001b[0m\u001b[0;34m,\u001b[0m \u001b[0my_train\u001b[0m\u001b[0;34m)\u001b[0m \u001b[0;32min\u001b[0m \u001b[0menumerate\u001b[0m\u001b[0;34m(\u001b[0m\u001b[0mtrain_loader\u001b[0m\u001b[0;34m)\u001b[0m\u001b[0;34m:\u001b[0m\u001b[0;34m\u001b[0m\u001b[0;34m\u001b[0m\u001b[0m\n\u001b[0;32m---> 11\u001b[0;31m       \u001b[0mopt\u001b[0m\u001b[0;34m.\u001b[0m\u001b[0mzero_grad\u001b[0m\u001b[0;34m(\u001b[0m\u001b[0;34m)\u001b[0m\u001b[0;34m\u001b[0m\u001b[0;34m\u001b[0m\u001b[0m\n\u001b[0m\u001b[1;32m     12\u001b[0m       \u001b[0my_hat\u001b[0m \u001b[0;34m=\u001b[0m \u001b[0mmodel\u001b[0m\u001b[0;34m(\u001b[0m\u001b[0mX_train\u001b[0m\u001b[0;34m)\u001b[0m\u001b[0;34m\u001b[0m\u001b[0;34m\u001b[0m\u001b[0m\n\u001b[1;32m     13\u001b[0m       \u001b[0mloss\u001b[0m \u001b[0;34m=\u001b[0m \u001b[0mloss_fn\u001b[0m\u001b[0;34m(\u001b[0m\u001b[0my_hat\u001b[0m\u001b[0;34m,\u001b[0m \u001b[0my_train\u001b[0m\u001b[0;34m)\u001b[0m\u001b[0;34m\u001b[0m\u001b[0;34m\u001b[0m\u001b[0m\n",
      "\u001b[0;32m/usr/local/lib/python3.7/dist-packages/torch/optim/optimizer.py\u001b[0m in \u001b[0;36mzero_grad\u001b[0;34m(self, set_to_none)\u001b[0m\n\u001b[1;32m    247\u001b[0m                                 \u001b[0mp\u001b[0m\u001b[0;34m.\u001b[0m\u001b[0mgrad\u001b[0m\u001b[0;34m.\u001b[0m\u001b[0mrequires_grad_\u001b[0m\u001b[0;34m(\u001b[0m\u001b[0;32mFalse\u001b[0m\u001b[0;34m)\u001b[0m\u001b[0;34m\u001b[0m\u001b[0;34m\u001b[0m\u001b[0m\n\u001b[1;32m    248\u001b[0m                             \u001b[0;32mif\u001b[0m \u001b[0;34m(\u001b[0m\u001b[0;32mnot\u001b[0m \u001b[0mforeach\u001b[0m \u001b[0;32mor\u001b[0m \u001b[0mp\u001b[0m\u001b[0;34m.\u001b[0m\u001b[0mgrad\u001b[0m\u001b[0;34m.\u001b[0m\u001b[0mis_sparse\u001b[0m\u001b[0;34m)\u001b[0m\u001b[0;34m:\u001b[0m\u001b[0;34m\u001b[0m\u001b[0;34m\u001b[0m\u001b[0m\n\u001b[0;32m--> 249\u001b[0;31m                                 \u001b[0mp\u001b[0m\u001b[0;34m.\u001b[0m\u001b[0mgrad\u001b[0m\u001b[0;34m.\u001b[0m\u001b[0mzero_\u001b[0m\u001b[0;34m(\u001b[0m\u001b[0;34m)\u001b[0m\u001b[0;34m\u001b[0m\u001b[0;34m\u001b[0m\u001b[0m\n\u001b[0m\u001b[1;32m    250\u001b[0m                             \u001b[0;32melse\u001b[0m\u001b[0;34m:\u001b[0m\u001b[0;34m\u001b[0m\u001b[0;34m\u001b[0m\u001b[0m\n\u001b[1;32m    251\u001b[0m                                 \u001b[0mper_device_and_dtype_grads\u001b[0m\u001b[0;34m[\u001b[0m\u001b[0mp\u001b[0m\u001b[0;34m.\u001b[0m\u001b[0mgrad\u001b[0m\u001b[0;34m.\u001b[0m\u001b[0mdevice\u001b[0m\u001b[0;34m]\u001b[0m\u001b[0;34m[\u001b[0m\u001b[0mp\u001b[0m\u001b[0;34m.\u001b[0m\u001b[0mgrad\u001b[0m\u001b[0;34m.\u001b[0m\u001b[0mdtype\u001b[0m\u001b[0;34m]\u001b[0m\u001b[0;34m.\u001b[0m\u001b[0mappend\u001b[0m\u001b[0;34m(\u001b[0m\u001b[0mp\u001b[0m\u001b[0;34m.\u001b[0m\u001b[0mgrad\u001b[0m\u001b[0;34m)\u001b[0m\u001b[0;34m\u001b[0m\u001b[0;34m\u001b[0m\u001b[0m\n",
      "\u001b[0;31mKeyboardInterrupt\u001b[0m: "
     ]
    }
   ],
   "source": [
    "for batch_size in [10, 100, 1000, 10000]:\n",
    "  for depth in [1, 2]:\n",
    "    train_loader, test_loader = make_data_loaders(batch_size, batch_size)\n",
    "    # model = MNISTClassifier(depth=depth)\n",
    "    model = None\n",
    "    if depth == 1:\n",
    "      model = make_one_layer_classifier()\n",
    "    else:\n",
    "      model = make_two_layer_classifier()\n",
    "\n",
    "    print(f'Batch size: {batch_size}, depth: {depth}')\n",
    "    losses = train(model, train_loader, lr=0.01)\n",
    "    plt.figure(figsize=(15, 10))\n",
    "    plt.plot(list(range(len(losses))), losses)\n",
    "    plt.title(f'Feed forward NN: batch size = {batch_size}, depth = {depth}')\n",
    "    plt.show()\n",
    "    test(model, test_loader)"
   ]
  },
  {
   "cell_type": "code",
   "execution_count": null,
   "metadata": {
    "colab": {
     "base_uri": "https://localhost:8080/"
    },
    "id": "WJEMuqlSm4Iy",
    "outputId": "cd10cdac-4669-44dd-d267-733267bf67ff"
   },
   "outputs": [
    {
     "data": {
      "text/plain": [
       "33.248936"
      ]
     },
     "execution_count": 7,
     "metadata": {},
     "output_type": "execute_result"
    }
   ],
   "source": [
    "_, test_loader = make_data_loaders(32, 60000)\n",
    "\n",
    "_, (X_sample, y_sample) = next(enumerate(test_loader))\n",
    "samples = torch.flatten(X_sample, start_dim=1)\n",
    "distances = euclidean_distances(samples).ravel()\n",
    "median = np.median(distances)\n",
    "\n",
    "median"
   ]
  },
  {
   "cell_type": "code",
   "execution_count": null,
   "metadata": {
    "colab": {
     "base_uri": "https://localhost:8080/"
    },
    "id": "3MDoiADsG0Ma",
    "outputId": "edcc5ecc-8ab1-48a1-b8aa-bf729b8fff3c"
   },
   "outputs": [
    {
     "name": "stdout",
     "output_type": "stream",
     "text": [
      "Trained SVM: sigma = 0.1, C = 0.01: accuracy = 0.10302734375\n",
      "Trained SVM: sigma = 0.1, C = 0.1: accuracy = 0.10302734375\n",
      "Trained SVM: sigma = 0.1, C = 1: accuracy = 0.10302734375\n",
      "Trained SVM: sigma = 0.1, C = 10: accuracy = 0.10302734375\n",
      "Trained SVM: sigma = 0.1, C = 100: accuracy = 0.10302734375\n",
      "Trained SVM: sigma = 1, C = 0.01: accuracy = 0.10302734375\n",
      "Trained SVM: sigma = 1, C = 0.1: accuracy = 0.10302734375\n",
      "Trained SVM: sigma = 1, C = 1: accuracy = 0.10302734375\n",
      "Trained SVM: sigma = 1, C = 10: accuracy = 0.10302734375\n",
      "Trained SVM: sigma = 1, C = 100: accuracy = 0.10302734375\n",
      "Trained SVM: sigma = 10, C = 0.01: accuracy = 0.10302734375\n",
      "Trained SVM: sigma = 10, C = 0.1: accuracy = 0.19921875\n",
      "Trained SVM: sigma = 10, C = 1: accuracy = 0.8125\n",
      "Trained SVM: sigma = 10, C = 10: accuracy = 0.82421875\n",
      "Trained SVM: sigma = 10, C = 100: accuracy = 0.82421875\n",
      "Trained SVM: sigma = 33.24893569946289, C = 0.01: accuracy = 0.395751953125\n",
      "Trained SVM: sigma = 33.24893569946289, C = 0.1: accuracy = 0.90869140625\n",
      "Trained SVM: sigma = 33.24893569946289, C = 1: accuracy = 0.9365234375\n",
      "Trained SVM: sigma = 33.24893569946289, C = 10: accuracy = 0.945556640625\n",
      "Trained SVM: sigma = 33.24893569946289, C = 100: accuracy = 0.94482421875\n"
     ]
    }
   ],
   "source": [
    "# sigmas = [median]\n",
    "sigmas = [0.1, 1, 10, median]\n",
    "Cs = [0.01, 0.1, 1, 10, 100]\n",
    "\n",
    "# train_loader, test_loader = make_data_loaders(60000, 60000)\n",
    "train_loader, test_loader = make_data_loaders(4096, 4096)\n",
    "_, (X_train, y_train) = next(enumerate(train_loader))\n",
    "_, (X_test, y_test) = next(enumerate(test_loader))\n",
    "X_train = torch.flatten(X_train, start_dim=1).numpy()\n",
    "y_train = y_train.numpy()\n",
    "X_test = torch.flatten(X_test, start_dim=1).numpy()\n",
    "y_test = y_test.numpy()\n",
    "\n",
    "all_accuracies = []\n",
    "\n",
    "for sigma in sigmas:\n",
    "  accuracies = []\n",
    "  \n",
    "  for i, C in enumerate(Cs):\n",
    "    gamma = 1 / (sigma**2)\n",
    "    # model = make_pipeline(StandardScaler(), SVC(gamma=gamma, C=C, kernel=\"rbf\"))\n",
    "    model = SVC(gamma=gamma, C=C, kernel=\"rbf\")\n",
    "    model.fit(X_train, y_train)\n",
    "    y_hat = model.predict(X_test)\n",
    "    accuracy = accuracy_score(y_test, y_hat)\n",
    "    accuracies.append(accuracy)\n",
    "    print(f'Trained SVM: sigma = {sigma}, C = {C}: accuracy = {accuracy}')\n",
    "  \n",
    "  all_accuracies.append(accuracies)"
   ]
  },
  {
   "cell_type": "code",
   "execution_count": null,
   "metadata": {
    "colab": {
     "base_uri": "https://localhost:8080/",
     "height": 607
    },
    "id": "SrdDhw5CU1Jd",
    "outputId": "382baa4d-4a48-4ab8-e276-e92a4c3a16dc"
   },
   "outputs": [
    {
     "data": {
      "image/png": "[encoded data removed]",
      "text/plain": [
       "<Figure size 1080x720 with 1 Axes>"
      ]
     },
     "metadata": {
      "needs_background": "light"
     },
     "output_type": "display_data"
    }
   ],
   "source": [
    "colors = ['green', 'red', 'blue', 'magenta']\n",
    "linestyle = ['-', '--', ':', '-.']\n",
    "\n",
    "fig, ax = plt.subplots(1, 1, figsize=(15, 10))\n",
    "\n",
    "for i, sigma in enumerate(sigmas):\n",
    "  plt.plot(np.arange(0, len(Cs), 1), all_accuracies[i], color=colors[i], linestyle=linestyle[i], label=f'variance = {sigma}')\n",
    "  ax.set_xticks([x for x in range(len(Cs))])\n",
    "  ax.set_xticklabels(Cs)\n",
    "\n",
    "plt.title(\"SVM accuracies for different variances and C\")\n",
    "plt.legend(loc=\"lower left\")\n",
    "plt.show()"
   ]
  },
  {
   "cell_type": "code",
   "execution_count": null,
   "metadata": {
    "id": "BPSmeG3tm-v7"
   },
   "outputs": [],
   "source": []
  }
 ],
 "metadata": {
  "colab": {
   "provenance": []
  },
  "gpuClass": "standard",
  "kernelspec": {
   "display_name": "Python 3 (ipykernel)",
   "language": "python",
   "name": "python3"
  },
  "language_info": {
   "codemirror_mode": {
    "name": "ipython",
    "version": 3
   },
   "file_extension": ".py",
   "mimetype": "text/x-python",
   "name": "python",
   "nbconvert_exporter": "python",
   "pygments_lexer": "ipython3",
   "version": "3.9.7"
  },
  "widgets": {
   "application/vnd.jupyter.widget-state+json": {
    "076e6226b6a7431ca1e76b3ec06fc24c": {
     "model_module": "@jupyter-widgets/base",
     "model_module_version": "1.2.0",
     "model_name": "LayoutModel",
     "state": {
      "_model_module": "@jupyter-widgets/base",
      "_model_module_version": "1.2.0",
      "_model_name": "LayoutModel",
      "_view_count": null,
      "_view_module": "@jupyter-widgets/base",
      "_view_module_version": "1.2.0",
      "_view_name": "LayoutView",
      "align_content": null,
      "align_items": null,
      "align_self": null,
      "border": null,
      "bottom": null,
      "display": null,
      "flex": null,
      "flex_flow": null,
      "grid_area": null,
      "grid_auto_columns": null,
      "grid_auto_flow": null,
      "grid_auto_rows": null,
      "grid_column": null,
      "grid_gap": null,
      "grid_row": null,
      "grid_template_areas": null,
      "grid_template_columns": null,
      "grid_template_rows": null,
      "height": null,
      "justify_content": null,
      "justify_items": null,
      "left": null,
      "margin": null,
      "max_height": null,
      "max_width": null,
      "min_height": null,
      "min_width": null,
      "object_fit": null,
      "object_position": null,
      "order": null,
      "overflow": null,
      "overflow_x": null,
      "overflow_y": null,
      "padding": null,
      "right": null,
      "top": null,
      "visibility": null,
      "width": null
     }
    },
    "15f10a67ba5e4f9bbcb264ccbaa5a9e9": {
     "model_module": "@jupyter-widgets/base",
     "model_module_version": "1.2.0",
     "model_name": "LayoutModel",
     "state": {
      "_model_module": "@jupyter-widgets/base",
      "_model_module_version": "1.2.0",
      "_model_name": "LayoutModel",
      "_view_count": null,
      "_view_module": "@jupyter-widgets/base",
      "_view_module_version": "1.2.0",
      "_view_name": "LayoutView",
      "align_content": null,
      "align_items": null,
      "align_self": null,
      "border": null,
      "bottom": null,
      "display": null,
      "flex": null,
      "flex_flow": null,
      "grid_area": null,
      "grid_auto_columns": null,
      "grid_auto_flow": null,
      "grid_auto_rows": null,
      "grid_column": null,
      "grid_gap": null,
      "grid_row": null,
      "grid_template_areas": null,
      "grid_template_columns": null,
      "grid_template_rows": null,
      "height": null,
      "justify_content": null,
      "justify_items": null,
      "left": null,
      "margin": null,
      "max_height": null,
      "max_width": null,
      "min_height": null,
      "min_width": null,
      "object_fit": null,
      "object_position": null,
      "order": null,
      "overflow": null,
      "overflow_x": null,
      "overflow_y": null,
      "padding": null,
      "right": null,
      "top": null,
      "visibility": null,
      "width": null
     }
    },
    "163d3e86a39b4ce8a1a8f4707df315ba": {
     "model_module": "@jupyter-widgets/controls",
     "model_module_version": "1.5.0",
     "model_name": "FloatProgressModel",
     "state": {
      "_dom_classes": [],
      "_model_module": "@jupyter-widgets/controls",
      "_model_module_version": "1.5.0",
      "_model_name": "FloatProgressModel",
      "_view_count": null,
      "_view_module": "@jupyter-widgets/controls",
      "_view_module_version": "1.5.0",
      "_view_name": "ProgressView",
      "bar_style": "danger",
      "description": "",
      "description_tooltip": null,
      "layout": "IPY_MODEL_15f10a67ba5e4f9bbcb264ccbaa5a9e9",
      "max": 20,
      "min": 0,
      "orientation": "horizontal",
      "style": "IPY_MODEL_cf7d7ded5cfc4c7ea9b52894c49b0522",
      "value": 7
     }
    },
    "4522b5aeaf5446afb98c238be62aed34": {
     "model_module": "@jupyter-widgets/controls",
     "model_module_version": "1.5.0",
     "model_name": "HTMLModel",
     "state": {
      "_dom_classes": [],
      "_model_module": "@jupyter-widgets/controls",
      "_model_module_version": "1.5.0",
      "_model_name": "HTMLModel",
      "_view_count": null,
      "_view_module": "@jupyter-widgets/controls",
      "_view_module_version": "1.5.0",
      "_view_name": "HTMLView",
      "description": "",
      "description_tooltip": null,
      "layout": "IPY_MODEL_b21c7e537c8647dcb490c62d164e48ab",
      "placeholder": "​",
      "style": "IPY_MODEL_82d9386c89b84cb7b5639bfff8c7e7fa",
      "value": " 35%"
     }
    },
    "7fce0f1e26b74900a88fb3e9dbe02a33": {
     "model_module": "@jupyter-widgets/base",
     "model_module_version": "1.2.0",
     "model_name": "LayoutModel",
     "state": {
      "_model_module": "@jupyter-widgets/base",
      "_model_module_version": "1.2.0",
      "_model_name": "LayoutModel",
      "_view_count": null,
      "_view_module": "@jupyter-widgets/base",
      "_view_module_version": "1.2.0",
      "_view_name": "LayoutView",
      "align_content": null,
      "align_items": null,
      "align_self": null,
      "border": null,
      "bottom": null,
      "display": null,
      "flex": null,
      "flex_flow": null,
      "grid_area": null,
      "grid_auto_columns": null,
      "grid_auto_flow": null,
      "grid_auto_rows": null,
      "grid_column": null,
      "grid_gap": null,
      "grid_row": null,
      "grid_template_areas": null,
      "grid_template_columns": null,
      "grid_template_rows": null,
      "height": null,
      "justify_content": null,
      "justify_items": null,
      "left": null,
      "margin": null,
      "max_height": null,
      "max_width": null,
      "min_height": null,
      "min_width": null,
      "object_fit": null,
      "object_position": null,
      "order": null,
      "overflow": null,
      "overflow_x": null,
      "overflow_y": null,
      "padding": null,
      "right": null,
      "top": null,
      "visibility": null,
      "width": null
     }
    },
    "82d9386c89b84cb7b5639bfff8c7e7fa": {
     "model_module": "@jupyter-widgets/controls",
     "model_module_version": "1.5.0",
     "model_name": "DescriptionStyleModel",
     "state": {
      "_model_module": "@jupyter-widgets/controls",
      "_model_module_version": "1.5.0",
      "_model_name": "DescriptionStyleModel",
      "_view_count": null,
      "_view_module": "@jupyter-widgets/base",
      "_view_module_version": "1.2.0",
      "_view_name": "StyleView",
      "description_width": ""
     }
    },
    "b21c7e537c8647dcb490c62d164e48ab": {
     "model_module": "@jupyter-widgets/base",
     "model_module_version": "1.2.0",
     "model_name": "LayoutModel",
     "state": {
      "_model_module": "@jupyter-widgets/base",
      "_model_module_version": "1.2.0",
      "_model_name": "LayoutModel",
      "_view_count": null,
      "_view_module": "@jupyter-widgets/base",
      "_view_module_version": "1.2.0",
      "_view_name": "LayoutView",
      "align_content": null,
      "align_items": null,
      "align_self": null,
      "border": null,
      "bottom": null,
      "display": null,
      "flex": null,
      "flex_flow": null,
      "grid_area": null,
      "grid_auto_columns": null,
      "grid_auto_flow": null,
      "grid_auto_rows": null,
      "grid_column": null,
      "grid_gap": null,
      "grid_row": null,
      "grid_template_areas": null,
      "grid_template_columns": null,
      "grid_template_rows": null,
      "height": null,
      "justify_content": null,
      "justify_items": null,
      "left": null,
      "margin": null,
      "max_height": null,
      "max_width": null,
      "min_height": null,
      "min_width": null,
      "object_fit": null,
      "object_position": null,
      "order": null,
      "overflow": null,
      "overflow_x": null,
      "overflow_y": null,
      "padding": null,
      "right": null,
      "top": null,
      "visibility": null,
      "width": null
     }
    },
    "b889cc7fffb1477ebfce3e98de49022d": {
     "model_module": "@jupyter-widgets/controls",
     "model_module_version": "1.5.0",
     "model_name": "DescriptionStyleModel",
     "state": {
      "_model_module": "@jupyter-widgets/controls",
      "_model_module_version": "1.5.0",
      "_model_name": "DescriptionStyleModel",
      "_view_count": null,
      "_view_module": "@jupyter-widgets/base",
      "_view_module_version": "1.2.0",
      "_view_name": "StyleView",
      "description_width": ""
     }
    },
    "c428703b6c524e61b3d27aa54c002855": {
     "model_module": "@jupyter-widgets/controls",
     "model_module_version": "1.5.0",
     "model_name": "HBoxModel",
     "state": {
      "_dom_classes": [],
      "_model_module": "@jupyter-widgets/controls",
      "_model_module_version": "1.5.0",
      "_model_name": "HBoxModel",
      "_view_count": null,
      "_view_module": "@jupyter-widgets/controls",
      "_view_module_version": "1.5.0",
      "_view_name": "HBoxView",
      "box_style": "",
      "children": [
       "IPY_MODEL_4522b5aeaf5446afb98c238be62aed34",
       "IPY_MODEL_163d3e86a39b4ce8a1a8f4707df315ba",
       "IPY_MODEL_d5a7c2719b214ab197d9de77f3a77b9d"
      ],
      "layout": "IPY_MODEL_7fce0f1e26b74900a88fb3e9dbe02a33"
     }
    },
    "cf7d7ded5cfc4c7ea9b52894c49b0522": {
     "model_module": "@jupyter-widgets/controls",
     "model_module_version": "1.5.0",
     "model_name": "ProgressStyleModel",
     "state": {
      "_model_module": "@jupyter-widgets/controls",
      "_model_module_version": "1.5.0",
      "_model_name": "ProgressStyleModel",
      "_view_count": null,
      "_view_module": "@jupyter-widgets/base",
      "_view_module_version": "1.2.0",
      "_view_name": "StyleView",
      "bar_color": null,
      "description_width": ""
     }
    },
    "d5a7c2719b214ab197d9de77f3a77b9d": {
     "model_module": "@jupyter-widgets/controls",
     "model_module_version": "1.5.0",
     "model_name": "HTMLModel",
     "state": {
      "_dom_classes": [],
      "_model_module": "@jupyter-widgets/controls",
      "_model_module_version": "1.5.0",
      "_model_name": "HTMLModel",
      "_view_count": null,
      "_view_module": "@jupyter-widgets/controls",
      "_view_module_version": "1.5.0",
      "_view_name": "HTMLView",
      "description": "",
      "description_tooltip": null,
      "layout": "IPY_MODEL_076e6226b6a7431ca1e76b3ec06fc24c",
      "placeholder": "​",
      "style": "IPY_MODEL_b889cc7fffb1477ebfce3e98de49022d",
      "value": " 7/20 [06:45&lt;11:09, 51.51s/it, loss=0.001 | Batch 4112 of 6000]"
     }
    }
   }
  }
 },
 "nbformat": 4,
 "nbformat_minor": 1
}
