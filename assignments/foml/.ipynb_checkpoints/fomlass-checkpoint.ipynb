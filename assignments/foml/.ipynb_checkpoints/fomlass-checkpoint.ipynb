{
 "cells": [
  {
   "cell_type": "markdown",
   "id": "a8cf8dbd",
   "metadata": {},
   "source": [
    "# 2.1.4"
   ]
  },
  {
   "cell_type": "markdown",
   "id": "e1a3e0bc",
   "metadata": {},
   "source": [
    "## a."
   ]
  },
  {
   "cell_type": "code",
   "execution_count": 40,
   "id": "d7bd2b5e",
   "metadata": {},
   "outputs": [],
   "source": [
    "import numpy as np\n",
    "import matplotlib.pyplot as plt\n",
    "import random\n",
    "random.seed(0)\n",
    "from sklearn.linear_model import LinearRegression\n",
    "from sklearn.metrics import explained_variance_score\n",
    "from sklearn.model_selection import train_test_split"
   ]
  },
  {
   "cell_type": "code",
   "execution_count": 41,
   "id": "37519a77",
   "metadata": {},
   "outputs": [],
   "source": [
    "mean = [2,2]\n",
    "cov = [[1, 0], [0, 1]]\n",
    "m = 100"
   ]
  },
  {
   "cell_type": "code",
   "execution_count": 42,
   "id": "c99d5790",
   "metadata": {},
   "outputs": [],
   "source": [
    "x1, x2 = np.random.multivariate_normal(mean, cov, 200).T\n",
    "w = np.random.rand(2)"
   ]
  },
  {
   "cell_type": "code",
   "execution_count": 43,
   "id": "34affc0d",
   "metadata": {},
   "outputs": [
    {
     "data": {
      "image/png": "[encoded data removed]",
      "text/plain": [
       "<Figure size 432x288 with 1 Axes>"
      ]
     },
     "metadata": {
      "needs_background": "light"
     },
     "output_type": "display_data"
    }
   ],
   "source": [
    "plt.plot(x1, x2, '.')\n",
    "plt.axis('equal')\n",
    "plt.show()"
   ]
  },
  {
   "cell_type": "code",
   "execution_count": 44,
   "id": "f3136031",
   "metadata": {},
   "outputs": [],
   "source": [
    "X = np.array([(a,b) for a,b in zip(x1,x2)])"
   ]
  },
  {
   "cell_type": "code",
   "execution_count": 45,
   "id": "771a341b",
   "metadata": {},
   "outputs": [],
   "source": [
    "Yn = np.array([sum(a) for a in w*X])"
   ]
  },
  {
   "cell_type": "code",
   "execution_count": 46,
   "id": "7ef07a5d",
   "metadata": {},
   "outputs": [],
   "source": [
    "Y = np.array([np.random.normal(a,1) for a in Yn])"
   ]
  },
  {
   "cell_type": "code",
   "execution_count": 47,
   "id": "8a58ce5f",
   "metadata": {},
   "outputs": [],
   "source": [
    "X_train, X_test, Y_train, Y_test = train_test_split(X, Y,test_size=0.5,shuffle=True)"
   ]
  },
  {
   "cell_type": "code",
   "execution_count": 48,
   "id": "f455073f",
   "metadata": {},
   "outputs": [],
   "source": [
    "reg = LinearRegression().fit(X_train,Y_train)"
   ]
  },
  {
   "cell_type": "code",
   "execution_count": 49,
   "id": "eda63018",
   "metadata": {},
   "outputs": [
    {
     "data": {
      "text/plain": [
       "0.30570574945675844"
      ]
     },
     "execution_count": 49,
     "metadata": {},
     "output_type": "execute_result"
    }
   ],
   "source": [
    "reg.score(X_test,Y_test)"
   ]
  },
  {
   "cell_type": "code",
   "execution_count": null,
   "id": "f425e013",
   "metadata": {},
   "outputs": [],
   "source": []
  }
 ],
 "metadata": {
  "kernelspec": {
   "display_name": "Python 3 (ipykernel)",
   "language": "python",
   "name": "python3"
  },
  "language_info": {
   "codemirror_mode": {
    "name": "ipython",
    "version": 3
   },
   "file_extension": ".py",
   "mimetype": "text/x-python",
   "name": "python",
   "nbconvert_exporter": "python",
   "pygments_lexer": "ipython3",
   "version": "3.9.7"
  }
 },
 "nbformat": 4,
 "nbformat_minor": 5
}
