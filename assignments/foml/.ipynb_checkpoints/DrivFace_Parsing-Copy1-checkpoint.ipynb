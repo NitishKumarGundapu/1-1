{
 "cells": [
  {
   "cell_type": "code",
   "execution_count": 1,
   "id": "857430bd",
   "metadata": {},
   "outputs": [],
   "source": [
    "import numpy as np\n",
    "import scipy.io\n",
    "import pandas as pd\n",
    "import random\n",
    "random.seed(0)"
   ]
  },
  {
   "cell_type": "code",
   "execution_count": 4,
   "id": "4ada7b01",
   "metadata": {},
   "outputs": [],
   "source": [
    "img_data = scipy.io.loadmat('DrivFace/DrivFace.mat')\n",
    "drivFaceData = img_data['drivFaceD'][0]"
   ]
  },
  {
   "cell_type": "code",
   "execution_count": 5,
   "id": "c8840f9d",
   "metadata": {},
   "outputs": [
    {
     "name": "stdout",
     "output_type": "stream",
     "text": [
      "(606, 6400)\n"
     ]
    },
    {
     "data": {
      "text/plain": [
       "array([[0.69411765, 0.72941176, 0.71372549, ..., 0.45098039, 0.42745098,\n",
       "        0.41176471],\n",
       "       [1.        , 0.99607843, 0.99607843, ..., 0.4627451 , 0.41568627,\n",
       "        0.43529412],\n",
       "       [1.        , 1.        , 1.        , ..., 0.40392157, 0.35686275,\n",
       "        0.31372549],\n",
       "       ...,\n",
       "       [0.30196078, 0.30588235, 0.30980392, ..., 0.28235294, 0.2745098 ,\n",
       "        0.28235294],\n",
       "       [0.31764706, 0.3254902 , 0.34117647, ..., 0.46666667, 0.54509804,\n",
       "        0.54117647],\n",
       "       [0.33333333, 0.34509804, 0.35294118, ..., 0.60392157, 0.54509804,\n",
       "        0.51764706]])"
      ]
     },
     "execution_count": 5,
     "metadata": {},
     "output_type": "execute_result"
    }
   ],
   "source": [
    "X_raw = img_data['drivFaceD'][0][0][0]\n",
    "print(X_raw.shape)\n",
    "X_raw"
   ]
  },
  {
   "cell_type": "code",
   "execution_count": 8,
   "id": "76848617",
   "metadata": {},
   "outputs": [],
   "source": [
    "label_data = pd.read_csv(\"DrivFace/drivPoints.txt\")"
   ]
  },
  {
   "cell_type": "code",
   "execution_count": 9,
   "id": "9bb3599a",
   "metadata": {},
   "outputs": [
    {
     "name": "stdout",
     "output_type": "stream",
     "text": [
      "                  fileName  subject  imgNum  label  ang   xF   yF   wF   hF  \\\n",
      "0  20130529_01_Driv_001_f         1       1      2    0  292  209  100  112   \n",
      "1  20130529_01_Driv_002_f         1       2      2    0  286  200  109  128   \n",
      "2  20130529_01_Driv_003_f         1       3      2    0  290  204  105  121   \n",
      "3  20130529_01_Driv_004_f         1       4      2    0  287  202  112  118   \n",
      "4  20130529_01_Driv_005_f         1       5      2    0  290  193  104  119   \n",
      "\n",
      "   xRE  yRE  xLE  yLE   xN   yN  xRM  yRM  xLM  yLM  \n",
      "0  323  232  367  231  353  254  332  278  361  278  \n",
      "1  324  235  366  235  353  258  333  281  361  281  \n",
      "2  325  240  367  239  351  260  334  282  362  282  \n",
      "3  325  230  369  230  353  253  335  274  362  275  \n",
      "4  325  224  366  225  353  244  333  268  363  268  \n"
     ]
    }
   ],
   "source": [
    "print(label_data.head(5))"
   ]
  },
  {
   "cell_type": "code",
   "execution_count": null,
   "id": "96056f3d",
   "metadata": {},
   "outputs": [],
   "source": [
    "featuremap1 = X_raw"
   ]
  },
  {
   "cell_type": "code",
   "execution_count": null,
   "id": "10a55baf",
   "metadata": {},
   "outputs": [],
   "source": [
    "X1 = X_raw\n",
    "X2 = np.square(X1)\n",
    "X = np.concatenate((X1, X2), axis=1)\n",
    "numr,numc=X.shape\n",
    "one=np.ones(numr)\n",
    "featuremap2=np.column_stack((one,X))\n",
    "Y = label_data['yF']\n",
    "print(X.shape)\n",
    "print(Y)\n",
    "featuremap2"
   ]
  },
  {
   "cell_type": "code",
   "execution_count": null,
   "id": "5387e207",
   "metadata": {},
   "outputs": [],
   "source": [
    "from sklearn.model_selection import train_test_split\n",
    "X_train, X_test, Y_train, Y_test = train_test_split(featuremap2, Y, test_size = 0.5, random_state= 5, shuffle =True)"
   ]
  },
  {
   "cell_type": "code",
   "execution_count": null,
   "id": "26b9248e",
   "metadata": {},
   "outputs": [],
   "source": [
    "from sklearn.linear_model import LinearRegression\n",
    "regressor = LinearRegression(fit_intercept = False)\n",
    "regressor.fit(X_train, Y_train)"
   ]
  },
  {
   "cell_type": "code",
   "execution_count": null,
   "id": "c212f986",
   "metadata": {},
   "outputs": [],
   "source": [
    "y_pred = regressor.predict(X_test)\n"
   ]
  },
  {
   "cell_type": "code",
   "execution_count": null,
   "id": "883e6e63",
   "metadata": {},
   "outputs": [],
   "source": [
    "from sklearn.metrics import explained_variance_score\n",
    "explained_variance_score(Y_test, y_pred)"
   ]
  },
  {
   "cell_type": "code",
   "execution_count": null,
   "id": "605fa4eb",
   "metadata": {},
   "outputs": [],
   "source": [
    "X_train, X_test, Y_train, Y_test = train_test_split(featuremap1, Y, test_size = 0.5,random_state= 25, shuffle =True)\n",
    "regressor1 = LinearRegression(fit_intercept = False)\n",
    "regressor1.fit(X_train, Y_train)\n",
    "y_pred = regressor1.predict(X_test)\n",
    "explained_variance_score(Y_test, y_pred)"
   ]
  },
  {
   "cell_type": "code",
   "execution_count": null,
   "id": "ded8964d",
   "metadata": {},
   "outputs": [],
   "source": []
  }
 ],
 "metadata": {
  "kernelspec": {
   "display_name": "Python 3 (ipykernel)",
   "language": "python",
   "name": "python3"
  },
  "language_info": {
   "codemirror_mode": {
    "name": "ipython",
    "version": 3
   },
   "file_extension": ".py",
   "mimetype": "text/x-python",
   "name": "python",
   "nbconvert_exporter": "python",
   "pygments_lexer": "ipython3",
   "version": "3.9.7"
  }
 },
 "nbformat": 4,
 "nbformat_minor": 5
}
