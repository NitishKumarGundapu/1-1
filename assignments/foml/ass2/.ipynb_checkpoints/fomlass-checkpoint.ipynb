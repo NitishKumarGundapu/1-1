{
 "cells": [
  {
   "cell_type": "markdown",
   "id": "a8cf8dbd",
   "metadata": {},
   "source": [
    "# 2.1.4"
   ]
  },
  {
   "cell_type": "markdown",
   "id": "e1a3e0bc",
   "metadata": {},
   "source": [
    "## a."
   ]
  },
  {
   "cell_type": "code",
   "execution_count": 6,
   "id": "d7bd2b5e",
   "metadata": {},
   "outputs": [],
   "source": [
    "import numpy as np\n",
    "import matplotlib.pyplot as plt\n",
    "import random\n",
    "import sklearn.datasets\n",
    "random.seed(0)\n",
    "from sklearn.linear_model import LinearRegression\n",
    "from sklearn.metrics import explained_variance_score\n",
    "from sklearn.model_selection import train_test_split"
   ]
  },
  {
   "cell_type": "code",
   "execution_count": 7,
   "id": "37519a77",
   "metadata": {},
   "outputs": [
    {
     "data": {
      "image/png": "[encoded data removed]",
      "text/plain": [
       "<Figure size 432x288 with 1 Axes>"
      ]
     },
     "metadata": {
      "needs_background": "light"
     },
     "output_type": "display_data"
    }
   ],
   "source": [
    "dims,evs = [],[]\n",
    "for d in [10,50,100,150,200]:\n",
    "    mean = np.random.rand(d)\n",
    "    cov = np.eye(d)\n",
    "    m = 300\n",
    "    X = np.random.multivariate_normal(mean,\n",
    "            cov, 2*m).T\n",
    "    w = range(1,2*m+1)\n",
    "    Yn = np.array([sum(a) for a in w*X])\n",
    "    Y = np.array([np.random.normal(a,1) for a in Yn])\n",
    "    X_train, X_test, Y_train, Y_test = train_test_split(X, Y,test_size=0.5,shuffle=True)\n",
    "    reg = LinearRegression().fit(X_train,Y_train)\n",
    "    Y_pred = reg.predict(X_test)\n",
    "    ev = explained_variance_score(Y_test, Y_pred)\n",
    "    dims.append(d)\n",
    "    evs.append(ev)\n",
    "\n",
    "plt.plot(dims,evs)\n",
    "plt.xlabel('Dimensions')\n",
    "plt.ylabel('experienced variance')\n",
    "plt.title('Experienced Variance vd D')\n",
    "plt.grid(True)\n",
    "plt.show()"
   ]
  },
  {
   "cell_type": "code",
   "execution_count": 10,
   "id": "771a341b",
   "metadata": {},
   "outputs": [],
   "source": [
    "Yn = np.array([sum(a) for a in w*X])"
   ]
  },
  {
   "cell_type": "code",
   "execution_count": 11,
   "id": "7ef07a5d",
   "metadata": {},
   "outputs": [],
   "source": [
    "Y = np.array([np.random.normal(a,1) for a in Yn])"
   ]
  },
  {
   "cell_type": "code",
   "execution_count": 12,
   "id": "8a58ce5f",
   "metadata": {},
   "outputs": [],
   "source": [
    "X_train, X_test, Y_train, Y_test = train_test_split(X, Y,test_size=0.5,shuffle=True)"
   ]
  },
  {
   "cell_type": "code",
   "execution_count": 13,
   "id": "b9c542c4",
   "metadata": {},
   "outputs": [],
   "source": [
    "reg = LinearRegression().fit(X_train,Y_train)"
   ]
  },
  {
   "cell_type": "code",
   "execution_count": null,
   "id": "45669c54",
   "metadata": {},
   "outputs": [],
   "source": []
  },
  {
   "cell_type": "code",
   "execution_count": 14,
   "id": "f4ae92be",
   "metadata": {},
   "outputs": [],
   "source": [
    "Y_pred = reg.predict(X_test)"
   ]
  },
  {
   "cell_type": "code",
   "execution_count": 15,
   "id": "6c6eb1a9",
   "metadata": {},
   "outputs": [
    {
     "data": {
      "text/plain": [
       "0.9802876122899699"
      ]
     },
     "execution_count": 15,
     "metadata": {},
     "output_type": "execute_result"
    }
   ],
   "source": [
    "explained_variance_score(Y_test, Y_pred)"
   ]
  },
  {
   "cell_type": "markdown",
   "id": "e60118f0",
   "metadata": {},
   "source": [
    "## 2.2.4"
   ]
  },
  {
   "cell_type": "code",
   "execution_count": 16,
   "id": "53a83e00",
   "metadata": {},
   "outputs": [
    {
     "data": {
      "text/plain": [
       "(1, 10)"
      ]
     },
     "execution_count": 16,
     "metadata": {},
     "output_type": "execute_result"
    }
   ],
   "source": [
    "A = sklearn.datasets.make_spd_matrix(n_dim=10)\n",
    "b = np.random.rand(10)\n",
    "c = np.random.rand()\n",
    "\n",
    "b_test = np.transpose(b)\n",
    "b_test.reshape(1,-1).shape"
   ]
  },
  {
   "cell_type": "code",
   "execution_count": 17,
   "id": "b190afd5",
   "metadata": {},
   "outputs": [
    {
     "data": {
      "text/plain": [
       "(1, 10)"
      ]
     },
     "execution_count": 17,
     "metadata": {},
     "output_type": "execute_result"
    }
   ],
   "source": [
    "A_inv = np.linalg.inv(A)\n",
    "op = np.matmul(A_inv,b)\n",
    "op.reshape(-1,1).shape\n",
    "opt = np.transpose(op)\n",
    "opt.reshape(1,-1).shape"
   ]
  },
  {
   "cell_type": "code",
   "execution_count": 18,
   "id": "fcd9d714",
   "metadata": {},
   "outputs": [],
   "source": [
    "of = np.matmul(np.matmul(opt,A),op) - 2*np.matmul(b_test,op)+c"
   ]
  },
  {
   "cell_type": "code",
   "execution_count": 19,
   "id": "bdd377df",
   "metadata": {},
   "outputs": [
    {
     "data": {
      "text/plain": [
       "-13.416531756327906"
      ]
     },
     "execution_count": 19,
     "metadata": {},
     "output_type": "execute_result"
    }
   ],
   "source": [
    "of"
   ]
  },
  {
   "cell_type": "code",
   "execution_count": 20,
   "id": "ccb25e39",
   "metadata": {},
   "outputs": [],
   "source": [
    "norm_A = np.linalg.norm(A,ord=2)\n",
    "norm_b = np.linalg.norm(b)"
   ]
  },
  {
   "cell_type": "code",
   "execution_count": 21,
   "id": "1a4b0244",
   "metadata": {},
   "outputs": [],
   "source": [
    "step_size=1/(2*norm_A+norm_b)"
   ]
  },
  {
   "cell_type": "code",
   "execution_count": 22,
   "id": "ef76964f",
   "metadata": {},
   "outputs": [
    {
     "data": {
      "text/plain": [
       "0.043586853433085354"
      ]
     },
     "execution_count": 22,
     "metadata": {},
     "output_type": "execute_result"
    }
   ],
   "source": [
    "step_size"
   ]
  },
  {
   "cell_type": "code",
   "execution_count": 23,
   "id": "b674a8f2",
   "metadata": {},
   "outputs": [
    {
     "data": {
      "text/plain": [
       "(10, 1)"
      ]
     },
     "execution_count": 23,
     "metadata": {},
     "output_type": "execute_result"
    }
   ],
   "source": [
    "v = np.array([1/10]*10)\n",
    "v.reshape(-1,1).shape"
   ]
  },
  {
   "cell_type": "code",
   "execution_count": 24,
   "id": "47cb7575",
   "metadata": {},
   "outputs": [],
   "source": [
    "gdov = []\n",
    "\n",
    "for n in range(1001):\n",
    "    v = v-step_size*(2*np.matmul(A,v)-2*b_test)\n",
    "    vt = np.transpose(v)\n",
    "    vt.reshape(1,-1)\n",
    "    ov = np.matmul(np.matmul(vt,A),v) - 2*np.matmul(b_test,v)+c\n",
    "    gdov.append(ov)"
   ]
  },
  {
   "cell_type": "code",
   "execution_count": 25,
   "id": "fda47c44",
   "metadata": {},
   "outputs": [],
   "source": [
    "v = np.array([1/10]*10)\n",
    "v.reshape(-1,1).shape\n",
    "step_sgd = step_size/100\n",
    "sgdov = []\n",
    "for n in range(100001):\n",
    "    e = np.random.randn(10)\n",
    "    v = v-step_sgd*(2*np.matmul(A,v)-2*b_test) + step_sgd*0.5*e\n",
    "    vt = np.transpose(v)\n",
    "    vt.reshape(1,-1)\n",
    "    ov = np.matmul(np.matmul(vt,A),v) - 2*np.matmul(b_test,v)+c\n",
    "    sgdov.append(ov)"
   ]
  },
  {
   "cell_type": "code",
   "execution_count": 26,
   "id": "a7e4a189",
   "metadata": {},
   "outputs": [
    {
     "data": {
      "text/plain": [
       "Text(0.5, 1.0, 'Plot of Objective values GD and SGD')"
      ]
     },
     "execution_count": 26,
     "metadata": {},
     "output_type": "execute_result"
    },
    {
     "data": {
      "image/png": "[encoded data removed]",
      "text/plain": [
       "<Figure size 432x288 with 1 Axes>"
      ]
     },
     "metadata": {
      "needs_background": "light"
     },
     "output_type": "display_data"
    }
   ],
   "source": [
    "plt.plot(range(len(gdov)),gdov)\n",
    "plt.xlabel('no of iterations')\n",
    "plt.ylabel('objective value')\n",
    "plt.axhline(y=of,color='g')\n",
    "plt.plot(range(len(sgdov)),sgdov,color='r')\n",
    "plt.title('Plot of Objective values GD and SGD')"
   ]
  },
  {
   "cell_type": "code",
   "execution_count": 27,
   "id": "2c808612",
   "metadata": {},
   "outputs": [
    {
     "data": {
      "text/plain": [
       "Text(0.5, 1.0, 'Plot of Objective values SGD')"
      ]
     },
     "execution_count": 27,
     "metadata": {},
     "output_type": "execute_result"
    },
    {
     "data": {
      "image/png": "[encoded data removed]",
      "text/plain": [
       "<Figure size 432x288 with 1 Axes>"
      ]
     },
     "metadata": {
      "needs_background": "light"
     },
     "output_type": "display_data"
    }
   ],
   "source": [
    "plt.plot(range(len(sgdov)),sgdov)\n",
    "plt.xlabel('no of iterations')\n",
    "plt.axhline(y=of,color='g')\n",
    "plt.ylabel('objective value')\n",
    "plt.title('Plot of Objective values SGD')"
   ]
  },
  {
   "cell_type": "code",
   "execution_count": null,
   "id": "9af91b89",
   "metadata": {},
   "outputs": [],
   "source": []
  }
 ],
 "metadata": {
  "kernelspec": {
   "display_name": "Python 3 (ipykernel)",
   "language": "python",
   "name": "python3"
  },
  "language_info": {
   "codemirror_mode": {
    "name": "ipython",
    "version": 3
   },
   "file_extension": ".py",
   "mimetype": "text/x-python",
   "name": "python",
   "nbconvert_exporter": "python",
   "pygments_lexer": "ipython3",
   "version": "3.9.7"
  }
 },
 "nbformat": 4,
 "nbformat_minor": 5
}
