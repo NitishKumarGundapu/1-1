{
 "cells": [
  {
   "cell_type": "markdown",
   "id": "2c00d890",
   "metadata": {},
   "source": [
    "# Question 2.1.3"
   ]
  },
  {
   "cell_type": "code",
   "execution_count": 1,
   "id": "4d1b312f",
   "metadata": {
    "id": "4d1b312f"
   },
   "outputs": [],
   "source": [
    "import numpy as np\n",
    "import scipy.io\n",
    "import pandas as pd\n",
    "import random\n",
    "random.seed(0)\n",
    "from sklearn.linear_model import LinearRegression\n",
    "from sklearn.metrics import explained_variance_score"
   ]
  },
  {
   "cell_type": "code",
   "execution_count": 2,
   "id": "00976dba",
   "metadata": {
    "id": "00976dba"
   },
   "outputs": [],
   "source": [
    "img_data = scipy.io.loadmat('DrivFace/DrivFace.mat')\n",
    "drivFaceData = img_data['drivFaceD'][0]"
   ]
  },
  {
   "cell_type": "code",
   "execution_count": 3,
   "id": "0f28609d",
   "metadata": {
    "id": "0f28609d",
    "outputId": "7ad025fc-1d82-4668-e9b3-0eca3ce54297"
   },
   "outputs": [
    {
     "name": "stdout",
     "output_type": "stream",
     "text": [
      "(606, 6400)\n"
     ]
    }
   ],
   "source": [
    "X_raw = img_data['drivFaceD'][0][0][0]\n",
    "print(X_raw.shape)"
   ]
  },
  {
   "cell_type": "code",
   "execution_count": 4,
   "id": "e05e5cb9",
   "metadata": {
    "id": "e05e5cb9"
   },
   "outputs": [],
   "source": [
    "label_data = pd.read_csv(\"DrivFace/drivPoints.txt\")"
   ]
  },
  {
   "cell_type": "code",
   "execution_count": 5,
   "id": "a9f53a1a",
   "metadata": {
    "id": "a9f53a1a",
    "outputId": "74449051-59ff-44f5-9772-1295c7decaa2"
   },
   "outputs": [
    {
     "name": "stdout",
     "output_type": "stream",
     "text": [
      "                  fileName  subject  imgNum  label  ang   xF   yF   wF   hF  \\\n",
      "0  20130529_01_Driv_001_f         1       1      2    0  292  209  100  112   \n",
      "1  20130529_01_Driv_002_f         1       2      2    0  286  200  109  128   \n",
      "2  20130529_01_Driv_003_f         1       3      2    0  290  204  105  121   \n",
      "3  20130529_01_Driv_004_f         1       4      2    0  287  202  112  118   \n",
      "4  20130529_01_Driv_005_f         1       5      2    0  290  193  104  119   \n",
      "\n",
      "   xRE  yRE  xLE  yLE   xN   yN  xRM  yRM  xLM  yLM  \n",
      "0  323  232  367  231  353  254  332  278  361  278  \n",
      "1  324  235  366  235  353  258  333  281  361  281  \n",
      "2  325  240  367  239  351  260  334  282  362  282  \n",
      "3  325  230  369  230  353  253  335  274  362  275  \n",
      "4  325  224  366  225  353  244  333  268  363  268  \n"
     ]
    }
   ],
   "source": [
    "\n",
    "print(label_data.head(5))"
   ]
  },
  {
   "cell_type": "code",
   "execution_count": 6,
   "id": "025550e3",
   "metadata": {
    "id": "025550e3",
    "outputId": "8deb1aa8-a140-4551-be05-eeaa1a5ac634"
   },
   "outputs": [
    {
     "name": "stdout",
     "output_type": "stream",
     "text": [
      "606\n"
     ]
    }
   ],
   "source": [
    "xF = label_data['xF']\n",
    "print(len(xF))"
   ]
  },
  {
   "cell_type": "code",
   "execution_count": 7,
   "id": "2ef7e09d",
   "metadata": {
    "id": "2ef7e09d",
    "outputId": "0236b1a1-4527-44a4-945f-25f2719d1004"
   },
   "outputs": [
    {
     "name": "stdout",
     "output_type": "stream",
     "text": [
      "(606, 6400)\n",
      "(606, 12801)\n",
      "(606,)\n"
     ]
    }
   ],
   "source": [
    "X1 = X_raw\n",
    "X2 = np.square(X1)\n",
    "X = np.concatenate((X1, X2), axis=1)\n",
    "Y = label_data['yF']\n",
    "\n",
    "featuremap1 = X_raw\n",
    "numr,numc=X.shape\n",
    "one=np.ones(numr)\n",
    "featuremap2 = np.column_stack((one,X))\n",
    "\n",
    "print(featuremap1.shape)\n",
    "print(featuremap2.shape)\n",
    "print(Y.shape)"
   ]
  },
  {
   "cell_type": "code",
   "execution_count": 8,
   "id": "9c1be352",
   "metadata": {},
   "outputs": [],
   "source": [
    "from sklearn.model_selection import train_test_split\n",
    "\n",
    "X_train, X_test, Y_train, Y_test = train_test_split(featuremap1, Y,test_size=0.5,shuffle =True)\n"
   ]
  },
  {
   "cell_type": "markdown",
   "id": "13e59573",
   "metadata": {},
   "source": [
    "### 2.1.3.1 for feature map x"
   ]
  },
  {
   "cell_type": "code",
   "execution_count": 9,
   "id": "9634fc3f",
   "metadata": {
    "id": "9634fc3f"
   },
   "outputs": [],
   "source": [
    "reg = LinearRegression().fit(X_train, Y_train)"
   ]
  },
  {
   "cell_type": "code",
   "execution_count": 10,
   "id": "c71a25c1",
   "metadata": {},
   "outputs": [],
   "source": [
    "Y_pred = reg.predict(X_test)"
   ]
  },
  {
   "cell_type": "code",
   "execution_count": 11,
   "id": "a79fa705",
   "metadata": {},
   "outputs": [
    {
     "data": {
      "text/plain": [
       "0.6998455471265081"
      ]
     },
     "execution_count": 11,
     "metadata": {},
     "output_type": "execute_result"
    }
   ],
   "source": [
    "explained_variance_score(Y_test, Y_pred)"
   ]
  },
  {
   "cell_type": "markdown",
   "id": "1d7cfc61",
   "metadata": {},
   "source": [
    "### 2.1.3.2 for feature map 1,x,x2"
   ]
  },
  {
   "cell_type": "code",
   "execution_count": 12,
   "id": "34dc57dc",
   "metadata": {},
   "outputs": [
    {
     "name": "stdout",
     "output_type": "stream",
     "text": [
      "[[1.         0.36470588 0.37254902 ... 0.17937716 0.14769704 0.14469819]\n",
      " [1.         0.14901961 0.14901961 ... 0.13301038 0.12181469 0.10594387]\n",
      " [1.         0.81960784 0.72941176 ... 0.21051903 0.18608228 0.13016532]\n",
      " ...\n",
      " [1.         0.21176471 0.21568627 ... 0.64628989 0.54354479 0.49274894]\n",
      " [1.         0.29411765 0.29803922 ... 0.07972318 0.07535563 0.09118032]\n",
      " [1.         0.29019608 0.2745098  ... 0.34142253 0.84928874 0.8932103 ]]\n"
     ]
    }
   ],
   "source": [
    "from sklearn.model_selection import train_test_split\n",
    "\n",
    "X_train, X_test, Y_train, Y_test = train_test_split(featuremap2, Y,test_size=0.5,shuffle=True)\n",
    "\n",
    "print(X_train)"
   ]
  },
  {
   "cell_type": "code",
   "execution_count": 13,
   "id": "e673a0f6",
   "metadata": {},
   "outputs": [],
   "source": [
    "reg1 = LinearRegression().fit(X_train, Y_train)"
   ]
  },
  {
   "cell_type": "code",
   "execution_count": 14,
   "id": "20504a56",
   "metadata": {},
   "outputs": [],
   "source": [
    "Y_pred = reg1.predict(X_test)"
   ]
  },
  {
   "cell_type": "code",
   "execution_count": 15,
   "id": "7bc2198e",
   "metadata": {},
   "outputs": [
    {
     "data": {
      "text/plain": [
       "0.7076407185691158"
      ]
     },
     "execution_count": 15,
     "metadata": {},
     "output_type": "execute_result"
    }
   ],
   "source": [
    "explained_variance_score(Y_test, Y_pred)"
   ]
  },
  {
   "cell_type": "code",
   "execution_count": null,
   "id": "4e19223d",
   "metadata": {},
   "outputs": [],
   "source": []
  },
  {
   "cell_type": "markdown",
   "id": "a163fda5",
   "metadata": {},
   "source": [
    "# 2.2.1"
   ]
  },
  {
   "cell_type": "code",
   "execution_count": 16,
   "id": "4a41d9c5",
   "metadata": {},
   "outputs": [],
   "source": [
    "xls = pd.ExcelFile('LSVT_voice_rehabilitation.xlsx')  # pd.read_excel(\"LSVT_voice_rehabilitation.xlsx\") will only read the 1st sheet\n",
    "df1 = pd.read_excel(xls, 'Data')\n",
    "df2 = pd.read_excel(xls, 'Binary response')"
   ]
  },
  {
   "cell_type": "code",
   "execution_count": 17,
   "id": "3f04e744",
   "metadata": {},
   "outputs": [
    {
     "data": {
      "text/html": [
       "<div>\n",
       "<style scoped>\n",
       "    .dataframe tbody tr th:only-of-type {\n",
       "        vertical-align: middle;\n",
       "    }\n",
       "\n",
       "    .dataframe tbody tr th {\n",
       "        vertical-align: top;\n",
       "    }\n",
       "\n",
       "    .dataframe thead th {\n",
       "        text-align: right;\n",
       "    }\n",
       "</style>\n",
       "<table border=\"1\" class=\"dataframe\">\n",
       "  <thead>\n",
       "    <tr style=\"text-align: right;\">\n",
       "      <th></th>\n",
       "      <th>Binary class 1=acceptable, 2=unacceptable</th>\n",
       "    </tr>\n",
       "  </thead>\n",
       "  <tbody>\n",
       "    <tr>\n",
       "      <th>0</th>\n",
       "      <td>1</td>\n",
       "    </tr>\n",
       "    <tr>\n",
       "      <th>1</th>\n",
       "      <td>2</td>\n",
       "    </tr>\n",
       "    <tr>\n",
       "      <th>2</th>\n",
       "      <td>2</td>\n",
       "    </tr>\n",
       "    <tr>\n",
       "      <th>3</th>\n",
       "      <td>1</td>\n",
       "    </tr>\n",
       "    <tr>\n",
       "      <th>4</th>\n",
       "      <td>2</td>\n",
       "    </tr>\n",
       "  </tbody>\n",
       "</table>\n",
       "</div>"
      ],
      "text/plain": [
       "   Binary class 1=acceptable, 2=unacceptable\n",
       "0                                          1\n",
       "1                                          2\n",
       "2                                          2\n",
       "3                                          1\n",
       "4                                          2"
      ]
     },
     "execution_count": 17,
     "metadata": {},
     "output_type": "execute_result"
    }
   ],
   "source": [
    "df2.head()"
   ]
  },
  {
   "cell_type": "code",
   "execution_count": 18,
   "id": "560d6311",
   "metadata": {},
   "outputs": [
    {
     "data": {
      "text/plain": [
       "((126, 310), (126, 1))"
      ]
     },
     "execution_count": 18,
     "metadata": {},
     "output_type": "execute_result"
    }
   ],
   "source": [
    "df1.shape, df2.shape"
   ]
  },
  {
   "cell_type": "code",
   "execution_count": 19,
   "id": "33415380",
   "metadata": {},
   "outputs": [
    {
     "data": {
      "text/plain": [
       "Binary class 1=acceptable, 2=unacceptable    126\n",
       "dtype: int64"
      ]
     },
     "execution_count": 19,
     "metadata": {},
     "output_type": "execute_result"
    }
   ],
   "source": [
    "df2.count()"
   ]
  },
  {
   "cell_type": "code",
   "execution_count": 20,
   "id": "270e8633",
   "metadata": {},
   "outputs": [
    {
     "name": "stdout",
     "output_type": "stream",
     "text": [
      "(126, 310)\n"
     ]
    },
    {
     "data": {
      "text/plain": [
       "(126,)"
      ]
     },
     "execution_count": 20,
     "metadata": {},
     "output_type": "execute_result"
    }
   ],
   "source": [
    "X = df1.to_numpy()\n",
    "print(X.shape)\n",
    "\n",
    "for j in range(X.shape[0]):  # verifying that no data was lost\n",
    "    for ix, i in enumerate(df1.iloc[j]):\n",
    "        if i!=X[j, ix]:\n",
    "            print(\"Issue\")\n",
    "            \n",
    "Y1 = df2.to_numpy()\n",
    "Y = []\n",
    "for a in Y1:\n",
    "    Y.extend(a)\n",
    "Y = np.array(Y)\n",
    "Y.shape"
   ]
  },
  {
   "cell_type": "code",
   "execution_count": 21,
   "id": "3146d587",
   "metadata": {},
   "outputs": [
    {
     "name": "stdout",
     "output_type": "stream",
     "text": [
      "(126, 310)\n",
      "(126, 621)\n",
      "(126,)\n"
     ]
    }
   ],
   "source": [
    "X1 = X\n",
    "X2 = np.square(X1)\n",
    "X = np.concatenate((X1, X2), axis=1)\n",
    "\n",
    "featuremap1 = X1\n",
    "r,c=X.shape\n",
    "one=np.ones(r)\n",
    "featuremap2 = np.column_stack((one,X))\n",
    "\n",
    "print(featuremap1.shape)\n",
    "print(featuremap2.shape)\n",
    "print(Y.shape)"
   ]
  },
  {
   "cell_type": "markdown",
   "id": "4efa5182",
   "metadata": {},
   "source": [
    "### 2.2.1.1 - for feature map x"
   ]
  },
  {
   "cell_type": "code",
   "execution_count": 22,
   "id": "8cf5e90b",
   "metadata": {},
   "outputs": [
    {
     "name": "stdout",
     "output_type": "stream",
     "text": [
      "(63, 310)\n"
     ]
    }
   ],
   "source": [
    "from sklearn.model_selection import train_test_split\n",
    "\n",
    "X_train, X_test, Y_train, Y_test = train_test_split(featuremap1, Y,test_size=0.5,shuffle=True)\n",
    "\n",
    "print(X_train.shape)"
   ]
  },
  {
   "cell_type": "code",
   "execution_count": 23,
   "id": "10920f29",
   "metadata": {},
   "outputs": [],
   "source": [
    "from sklearn.linear_model import Perceptron\n",
    "\n",
    "model11 = Perceptron(tol=1e-3, random_state=0).fit(X_train,Y_train)"
   ]
  },
  {
   "cell_type": "code",
   "execution_count": 24,
   "id": "f14ae883",
   "metadata": {},
   "outputs": [
    {
     "data": {
      "text/plain": [
       "0.6825396825396826"
      ]
     },
     "execution_count": 24,
     "metadata": {},
     "output_type": "execute_result"
    }
   ],
   "source": [
    "model11.score(X_test,Y_test)"
   ]
  },
  {
   "cell_type": "code",
   "execution_count": 25,
   "id": "40970b9b",
   "metadata": {},
   "outputs": [
    {
     "name": "stderr",
     "output_type": "stream",
     "text": [
      "C:\\Users\\nk\\anaconda3\\lib\\site-packages\\sklearn\\linear_model\\_logistic.py:763: ConvergenceWarning: lbfgs failed to converge (status=1):\n",
      "STOP: TOTAL NO. of ITERATIONS REACHED LIMIT.\n",
      "\n",
      "Increase the number of iterations (max_iter) or scale the data as shown in:\n",
      "    https://scikit-learn.org/stable/modules/preprocessing.html\n",
      "Please also refer to the documentation for alternative solver options:\n",
      "    https://scikit-learn.org/stable/modules/linear_model.html#logistic-regression\n",
      "  n_iter_i = _check_optimize_result(\n"
     ]
    }
   ],
   "source": [
    "from sklearn.linear_model import LogisticRegression\n",
    "\n",
    "model12 = LogisticRegression(random_state=0).fit(X_train,Y_train)"
   ]
  },
  {
   "cell_type": "code",
   "execution_count": 26,
   "id": "8bb4d793",
   "metadata": {},
   "outputs": [
    {
     "data": {
      "text/plain": [
       "0.746031746031746"
      ]
     },
     "execution_count": 26,
     "metadata": {},
     "output_type": "execute_result"
    }
   ],
   "source": [
    "model12.score(X_test,Y_test)"
   ]
  },
  {
   "cell_type": "markdown",
   "id": "8e3697a2",
   "metadata": {},
   "source": [
    "### 2.2.1.2 for feature map 1,x,x2"
   ]
  },
  {
   "cell_type": "code",
   "execution_count": 27,
   "id": "8029eecf",
   "metadata": {},
   "outputs": [
    {
     "name": "stdout",
     "output_type": "stream",
     "text": [
      "(63, 621)\n"
     ]
    }
   ],
   "source": [
    "from sklearn.model_selection import train_test_split\n",
    "\n",
    "X_train, X_test, Y_train, Y_test = train_test_split(featuremap2, Y,test_size=0.5,shuffle=True)\n",
    "\n",
    "print(X_train.shape)"
   ]
  },
  {
   "cell_type": "code",
   "execution_count": 28,
   "id": "71aa1e6e",
   "metadata": {},
   "outputs": [],
   "source": [
    "model21 = Perceptron(tol=1e-3, random_state=0).fit(X_train,Y_train)"
   ]
  },
  {
   "cell_type": "code",
   "execution_count": 29,
   "id": "e916e088",
   "metadata": {},
   "outputs": [
    {
     "data": {
      "text/plain": [
       "0.6666666666666666"
      ]
     },
     "execution_count": 29,
     "metadata": {},
     "output_type": "execute_result"
    }
   ],
   "source": [
    "model21.score(X_test,Y_test)"
   ]
  },
  {
   "cell_type": "code",
   "execution_count": 30,
   "id": "895c1493",
   "metadata": {},
   "outputs": [
    {
     "name": "stderr",
     "output_type": "stream",
     "text": [
      "C:\\Users\\nk\\anaconda3\\lib\\site-packages\\sklearn\\linear_model\\_logistic.py:763: ConvergenceWarning: lbfgs failed to converge (status=2):\n",
      "ABNORMAL_TERMINATION_IN_LNSRCH.\n",
      "\n",
      "Increase the number of iterations (max_iter) or scale the data as shown in:\n",
      "    https://scikit-learn.org/stable/modules/preprocessing.html\n",
      "Please also refer to the documentation for alternative solver options:\n",
      "    https://scikit-learn.org/stable/modules/linear_model.html#logistic-regression\n",
      "  n_iter_i = _check_optimize_result(\n"
     ]
    }
   ],
   "source": [
    "model22 = LogisticRegression().fit(X_train,Y_train)"
   ]
  },
  {
   "cell_type": "code",
   "execution_count": 31,
   "id": "6eeeeefd",
   "metadata": {},
   "outputs": [
    {
     "data": {
      "text/plain": [
       "0.3333333333333333"
      ]
     },
     "execution_count": 31,
     "metadata": {},
     "output_type": "execute_result"
    }
   ],
   "source": [
    "model22.score(X_test,Y_test)"
   ]
  }
 ],
 "metadata": {
  "colab": {
   "provenance": []
  },
  "kernelspec": {
   "display_name": "Python 3 (ipykernel)",
   "language": "python",
   "name": "python3"
  },
  "language_info": {
   "codemirror_mode": {
    "name": "ipython",
    "version": 3
   },
   "file_extension": ".py",
   "mimetype": "text/x-python",
   "name": "python",
   "nbconvert_exporter": "python",
   "pygments_lexer": "ipython3",
   "version": "3.9.7"
  }
 },
 "nbformat": 4,
 "nbformat_minor": 5
}
